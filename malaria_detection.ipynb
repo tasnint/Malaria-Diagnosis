{
  "nbformat": 4,
  "nbformat_minor": 0,
  "metadata": {
    "colab": {
      "provenance": []
    },
    "kernelspec": {
      "name": "python3",
      "display_name": "Python 3"
    },
    "language_info": {
      "name": "python"
    }
  },
  "cells": [
    {
      "cell_type": "code",
      "execution_count": 1,
      "metadata": {
        "id": "yor3a0oZJTQr"
      },
      "outputs": [],
      "source": [
        "import tensorflow as tf\n",
        "import numpy as np\n",
        "import matplotlib.pyplot as plt\n",
        "import tensorflow_datasets as tfds\n",
        "from tensorflow.keras.layers import Conv2D, MaxPool2D, Dense, Flatten, InputLayer, BatchNormalization\n",
        "from tensorflow.keras.losses import MeanSquaredError, Huber, MeanAbsoluteError\n",
        "from tensorflow.keras.losses import BinaryCrossentropy\n",
        "from tensorflow.keras.optimizers import Adam"
      ]
    },
    {
      "cell_type": "code",
      "source": [
        "dataset, dataset_info = tfds.load('malaria', with_info=True, as_supervised=True, shuffle_files=True, split=['train'])"
      ],
      "metadata": {
        "id": "arEDihV7LpGB"
      },
      "execution_count": 2,
      "outputs": []
    },
    {
      "cell_type": "code",
      "source": [
        "dataset"
      ],
      "metadata": {
        "id": "hHb6QpaUOJ5o",
        "colab": {
          "base_uri": "https://localhost:8080/"
        },
        "outputId": "e1a19782-a76e-4090-99ba-50978346329d"
      },
      "execution_count": 3,
      "outputs": [
        {
          "output_type": "execute_result",
          "data": {
            "text/plain": [
              "[<_PrefetchDataset element_spec=(TensorSpec(shape=(None, None, 3), dtype=tf.uint8, name=None), TensorSpec(shape=(), dtype=tf.int64, name=None))>]"
            ]
          },
          "metadata": {},
          "execution_count": 3
        }
      ]
    },
    {
      "cell_type": "code",
      "source": [
        "for data in dataset[0].take(4):\n",
        "  print(data)\n",
        "  break"
      ],
      "metadata": {
        "id": "3AFAILlJOL7b"
      },
      "execution_count": null,
      "outputs": []
    },
    {
      "cell_type": "code",
      "source": [
        "def splits(dataset, TRAIN_RATIO, VAL_RATIO, TEST_RATIO):\n",
        "\n",
        "\n",
        "  DATASET_SIZE = len(dataset)\n",
        "\n",
        "\n",
        "  train_dataset = dataset.take(int(TRAIN_RATIO*DATASET_SIZE))\n",
        "\n",
        "\n",
        "  val_test_dataset = dataset.skip(int(TRAIN_RATIO*DATASET_SIZE))\n",
        "  val_dataset = val_test_dataset.take(int(VAL_RATIO*DATASET_SIZE))\n",
        "\n",
        "\n",
        "\n",
        "\n",
        "\n",
        "\n",
        "  test_dataset = val_test_dataset.skip(int(VAL_RATIO*DATASET_SIZE))\n",
        "  return train_dataset, val_dataset, test_dataset\n",
        "\n"
      ],
      "metadata": {
        "id": "59MhnFOtXC5p"
      },
      "execution_count": 5,
      "outputs": []
    },
    {
      "cell_type": "code",
      "source": [
        "TRAIN_RATIO = 0.8\n",
        "VAL_RATIO = 0.1\n",
        "TEST_RATIO = 0.1\n",
        "\n",
        "\n",
        "#dataset = tf.data.Dataset.range(10)\n",
        "train_dataset, val_dataset, test_dataset = splits(dataset[0], TRAIN_RATIO, VAL_RATIO, TEST_RATIO)\n",
        "\n",
        "print(list(train_dataset.take(1).as_numpy_iterator()),\n",
        "            list( val_dataset.take(1).as_numpy_iterator()),\n",
        "      list( test_dataset.take(1).as_numpy_iterator()))\n",
        "\n",
        "\n",
        "\n"
      ],
      "metadata": {
        "id": "myJWmS9OPFyg"
      },
      "execution_count": null,
      "outputs": []
    },
    {
      "cell_type": "code",
      "source": [
        "dataset"
      ],
      "metadata": {
        "id": "n-AUBzJEhQS6"
      },
      "execution_count": null,
      "outputs": []
    },
    {
      "cell_type": "markdown",
      "source": [
        "**Dataset Visualization**"
      ],
      "metadata": {
        "id": "NGvgmUD3aAXU"
      }
    },
    {
      "cell_type": "code",
      "source": [
        "for i, (image, label) in enumerate(train_dataset.take(16)):\n",
        "  ax = plt.subplot(4, 4, i + 1)\n",
        "  plt.imshow(image)\n",
        "  plt.title(dataset_info.features['label'].int2str(label))\n",
        "  plt.axis('off')"
      ],
      "metadata": {
        "id": "iJq630B8Xynk"
      },
      "execution_count": null,
      "outputs": []
    },
    {
      "cell_type": "code",
      "source": [
        "dataset_info.features['label'].int2str(1)"
      ],
      "metadata": {
        "id": "Ojg4eWFY0Bmq"
      },
      "execution_count": null,
      "outputs": []
    },
    {
      "cell_type": "markdown",
      "source": [
        "**Data Preprocessing**"
      ],
      "metadata": {
        "id": "7YcsIEzzbRtK"
      }
    },
    {
      "cell_type": "code",
      "source": [
        "IM_SIZE = 224\n",
        "def resize_rescale(image, label):\n",
        "  return tf.image.resize(image, (IM_SIZE, IM_SIZE))/255.0, label"
      ],
      "metadata": {
        "id": "6zpn0RqJcXhx"
      },
      "execution_count": 10,
      "outputs": []
    },
    {
      "cell_type": "code",
      "source": [
        "train_dataset = train_dataset.map(resize_rescale)\n",
        "val_dataset = val_dataset.map(resize_rescale)\n",
        "test_dataset = test_dataset.map(resize_rescale)\n",
        "train_dataset"
      ],
      "metadata": {
        "id": "ipaLNhbzbZFq"
      },
      "execution_count": null,
      "outputs": []
    },
    {
      "cell_type": "code",
      "source": [],
      "metadata": {
        "id": "y78a2Bsp6XaX"
      },
      "execution_count": 11,
      "outputs": []
    },
    {
      "cell_type": "code",
      "source": [
        "for image,label in train_dataset.take(1):\n",
        "  print(image, label)"
      ],
      "metadata": {
        "id": "C-08n3S_bavf"
      },
      "execution_count": null,
      "outputs": []
    },
    {
      "cell_type": "code",
      "source": [
        "BATCH_SIZE = 32\n",
        "train_dataset = train_dataset.shuffle(buffer_size=8, reshuffle_each_iteration=True).batch(32).prefetch(tf.data.AUTOTUNE)"
      ],
      "metadata": {
        "id": "2NRobG6zbayC"
      },
      "execution_count": 13,
      "outputs": []
    },
    {
      "cell_type": "code",
      "source": [
        "val_dataset = val_dataset.shuffle(buffer_size=8, reshuffle_each_iteration=True).batch(BATCH_SIZE).prefetch(tf.data.AUTOTUNE)"
      ],
      "metadata": {
        "id": "5CcYR6dkVUJY"
      },
      "execution_count": 14,
      "outputs": []
    },
    {
      "cell_type": "code",
      "source": [],
      "metadata": {
        "id": "hz1GZsFcWLYU"
      },
      "execution_count": 14,
      "outputs": []
    },
    {
      "cell_type": "markdown",
      "source": [
        "**Model Creation**"
      ],
      "metadata": {
        "id": "F7P4Gd9H9UNO"
      }
    },
    {
      "cell_type": "code",
      "source": [],
      "metadata": {
        "id": "0pYA-6_901tY"
      },
      "execution_count": 14,
      "outputs": []
    },
    {
      "cell_type": "code",
      "source": [
        "lenet_model = tf.keras.Sequential([\n",
        "    InputLayer(input_shape=(IM_SIZE, IM_SIZE, 3)),\n",
        "\n",
        "\n",
        "    Conv2D(filters = 6, kernel_size = 3, strides=1, padding='valid', activation='relu'),\n",
        "    BatchNormalization(),\n",
        "    MaxPool2D(pool_size = 2, strides = 2),\n",
        "\n",
        "\n",
        "    Conv2D(filters = 16, kernel_size = 3, strides=1, padding='valid', activation='relu'),\n",
        "    BatchNormalization(),\n",
        "    MaxPool2D(pool_size = 2, strides = 2),\n",
        "\n",
        "\n",
        "    Flatten(),\n",
        "\n",
        "\n",
        "    Dense(100, activation = \"relu\"),\n",
        "    BatchNormalization(),\n",
        "\n",
        "\n",
        "    Dense(10, activation = \"relu\"),\n",
        "    BatchNormalization(),\n",
        "\n",
        "\n",
        "    Dense(1, activation = \"sigmoid\"),\n",
        "    BatchNormalization()\n",
        "\n",
        "])\n",
        "lenet_model.summary()\n"
      ],
      "metadata": {
        "id": "WGXS4sWgba06"
      },
      "execution_count": null,
      "outputs": []
    },
    {
      "cell_type": "code",
      "source": [
        "y_true = [0, 1, 0, 0]\n",
        "y_pred = [0.6, 0.51, 0.94, 1]\n",
        "bce = tf.keras.losses.BinaryCrossentropy()\n",
        "bce(y_true, y_pred)\n"
      ],
      "metadata": {
        "id": "1facN7OvAd7h"
      },
      "execution_count": null,
      "outputs": []
    },
    {
      "cell_type": "code",
      "source": [
        "lenet_model.compile(optimizer = Adam(learning_rate = 0.01),\n",
        "              loss = BinaryCrossentropy(),\n",
        "              metrics = 'accuracy'\n",
        "                    )\n",
        "\n"
      ],
      "metadata": {
        "id": "J5f1T5k4CJft"
      },
      "execution_count": 19,
      "outputs": []
    },
    {
      "cell_type": "code",
      "source": [
        "history = lenet_model.fit(train_dataset, validation_data = val_dataset, epochs = 20, verbose = 1)"
      ],
      "metadata": {
        "id": "Hj3m4WKSCiNT",
        "colab": {
          "base_uri": "https://localhost:8080/"
        },
        "outputId": "49e65e5a-02e3-49d8-b013-96406be2df67"
      },
      "execution_count": null,
      "outputs": [
        {
          "output_type": "stream",
          "name": "stdout",
          "text": [
            "Epoch 1/20\n",
            "689/689 [==============================] - 796s 1s/step - loss: 0.3309 - accuracy: 0.9012 - val_loss: 1.3058 - val_accuracy: 0.4980\n",
            "Epoch 2/20\n",
            "689/689 [==============================] - 839s 1s/step - loss: 0.3111 - accuracy: 0.9157 - val_loss: 1.3663 - val_accuracy: 0.5151\n",
            "Epoch 3/20\n",
            "407/689 [================>.............] - ETA: 5:08 - loss: 0.3676 - accuracy: 0.8585"
          ]
        }
      ]
    },
    {
      "cell_type": "code",
      "source": [
        "plt.plot(history.history['loss'])\n",
        "plt.plot(history.history['val_loss'])\n",
        "plt.title('Model loss')\n",
        "plt.ylabel('loss')\n",
        "plt.xlabel('epoch')\n",
        "plt.legend(['train_loss', 'val_loss'])\n",
        "plt.show()\n"
      ],
      "metadata": {
        "id": "3cQMyM_ICdQy"
      },
      "execution_count": null,
      "outputs": []
    },
    {
      "cell_type": "code",
      "source": [
        "plt.plot(history.history['accuracy'])\n",
        "plt.plot(history.history['val_accuracy'])\n",
        "plt.title('Model Accuracy')\n",
        "plt.ylabel('Accuracy')\n",
        "plt.xlabel('Epoch')\n",
        "plt.legend(['train_accuracy', 'val_accuracy'])\n",
        "plt.show()"
      ],
      "metadata": {
        "id": "dn2YBAOjhYEE"
      },
      "execution_count": null,
      "outputs": []
    },
    {
      "cell_type": "markdown",
      "source": [
        "**Model Evaluation and Testing**"
      ],
      "metadata": {
        "id": "V50mEbOb_8hA"
      }
    },
    {
      "cell_type": "code",
      "source": [
        "test_dataset = test_dataset.batch(1)"
      ],
      "metadata": {
        "id": "AO2Nc3UWiL5r"
      },
      "execution_count": 24,
      "outputs": []
    },
    {
      "cell_type": "code",
      "source": [
        "test_dataset"
      ],
      "metadata": {
        "id": "lo6d3MO-iSBp"
      },
      "execution_count": null,
      "outputs": []
    },
    {
      "cell_type": "code",
      "source": [
        "lenet_model.evaluate(test_dataset)"
      ],
      "metadata": {
        "id": "6gvYAF3qba3F"
      },
      "execution_count": null,
      "outputs": []
    },
    {
      "cell_type": "code",
      "source": [
        "parasite_or_not(lenet_model.predict(test_dataset.take(1))[0][0])"
      ],
      "metadata": {
        "id": "zNBRE1MijRj4"
      },
      "execution_count": null,
      "outputs": []
    },
    {
      "cell_type": "code",
      "source": [
        "def parasite_or_not(x):\n",
        "  if(x<0.5):\n",
        "    return str('P')\n",
        "  else:\n",
        "    return str('U')"
      ],
      "metadata": {
        "id": "QF-Eu_9mjYAd"
      },
      "execution_count": 29,
      "outputs": []
    },
    {
      "cell_type": "code",
      "source": [
        "for i, (image, label) in enumerate (test_dataset.take(9)):\n",
        "  ax = plt.subplot(3, 3, i + 1)\n",
        "  plt.imshow(image[0])\n",
        "  plt.title(str(parasite_or_not(label.numpy()[0])) + \":\" + str(parasite_or_not(lenet_model.predict(image)[0][0])))\n",
        "\n",
        "  plt.axis('off')"
      ],
      "metadata": {
        "id": "0FJnD4d1la0o"
      },
      "execution_count": null,
      "outputs": []
    },
    {
      "cell_type": "markdown",
      "source": [
        "**Corrective Measures**"
      ],
      "metadata": {
        "id": "jVvEwLB2nM5x"
      }
    }
  ]
}